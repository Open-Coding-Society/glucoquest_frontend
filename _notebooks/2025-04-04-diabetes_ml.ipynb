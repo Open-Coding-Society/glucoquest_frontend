{
 "cells": [
  {
   "cell_type": "markdown",
   "metadata": {},
   "source": [
    "---\n",
    "toc: true\n",
    "layout: post\n",
    "title: Diabetes Prediction Using ML\n",
    "description: ml stuff\n",
    "categories: [Machine Learning]\n",
    "---"
   ]
  },
  {
   "cell_type": "markdown",
   "metadata": {},
   "source": [
    "\n",
    "## 1. Project Overview  \n",
    "**Goal**: Predict diabetes risk (0-100% probability) using CDC dataset features.  \n",
    "**Key Components**:  \n",
    "- **Machine Learning**: `GradientBoostingClassifier` with probability calibration.  \n",
    "- **API**: Flask RESTful endpoints for single/bulk predictions.  \n",
    "- **Documentation**: Jupyter Notebook + GitHub Pages.  "
   ]
  },
  {
   "cell_type": "markdown",
   "metadata": {},
   "source": [
    "## 2. Model Design\n",
    "\n",
    "### Architecture\n",
    "\n",
    "**Singleton Pattern**: Ensures one model instance system-wide.\n",
    "\n",
    "**Pipeline**:\n",
    "```python\n",
    "Pipeline([\n",
    "    ('scaler', StandardScaler()),\n",
    "    ('classifier', GradientBoostingClassifier())\n",
    "])\n",
    "```\n",
    "\n",
    "### Calibration: `CalibratedClassifierCV` for Accurate Probabilities\n",
    "\n",
    "### Key Methods\n",
    "\n",
    "- **`predict()`**: Returns probability (0–1) for a patient.\n",
    "- **`save_model()` / `load_model()`**: Model persistence via `joblib`.\n"
   ]
  },
  {
   "cell_type": "markdown",
   "metadata": {},
   "source": []
  },
  {
   "cell_type": "markdown",
   "metadata": {},
   "source": [
    "## 3. Data Choices\n",
    "\n",
    "### Dataset\n",
    "\n",
    "**Source**: [UCI ML Repository (ID: 891)](https://archive.ics.uci.edu/dataset/891/cdc-diabetes-health-indicators)\n",
    "\n",
    "**Features**:\n",
    "```python\n",
    "['HighBP', 'HighChol', 'BMI', 'Age', 'GenHlth', ...]  # 15 total\n",
    "```\n",
    "\n",
    "**Preprocessing**:\n",
    "- Dropped missing values\n",
    "- Engineered BMI_Category (binned categories)\n",
    "\n",
    "```python\n",
    "import pandas as pd\n",
    "df = fetch_ucirepo(id=891).data\n",
    "df.features.sample(5)\n",
    "``` "
   ]
  },
  {
   "cell_type": "markdown",
   "metadata": {},
   "source": [
    "## 4. API Documentation\n",
    "\n",
    "### Endpoints\n",
    "\n",
    "| Endpoint                     | Method | Description                          |\n",
    "|------------------------------|--------|--------------------------------------|\n",
    "| `/api/diabetes/predict`      | POST   | Predict risk for a single patient    |\n",
    "| `/api/diabetes/bulk`         | POST   | Predict for multiple patients        |\n",
    "\n",
    "**Example Request**:\n",
    "```python\n",
    "        try {\n",
    "            const formData = getFormData();\n",
    "            const response = await fetch(`${pythonURI}/api/diabetes/predict`, {\n",
    "                ...fetchOptions,\n",
    "                method: 'POST',\n",
    "                headers: { 'Content-Type': 'application/json' },\n",
    "                body: JSON.stringify(formData)\n",
    "            });\n",
    "\n",
    "            if (!response.ok) {\n",
    "                const error = await response.json();\n",
    "                throw new Error(error.message || 'Prediction failed');\n",
    "            }\n",
    "\n",
    "            const result = await response.json();\n",
    "\n",
    "    ```"
   ]
  }
 ],
 "metadata": {
  "language_info": {
   "name": "python"
  }
 },
 "nbformat": 4,
 "nbformat_minor": 2
}
