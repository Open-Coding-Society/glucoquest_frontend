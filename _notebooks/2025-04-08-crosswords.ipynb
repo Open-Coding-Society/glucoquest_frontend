{
 "cells": [
  {
   "cell_type": "raw",
   "id": "3f577785",
   "metadata": {
    "vscode": {
     "languageId": "raw"
    }
   },
   "source": [
    "---\n",
    "layout: post\n",
    "toc: true\n",
    "categories: [Game]\n",
    "title: Crossword Puzzle development plan:\n",
    "---"
   ]
  },
  {
   "cell_type": "markdown",
   "id": "36ca144c",
   "metadata": {},
   "source": [
    "# Dexcom Education Crossword Feature Journal\n",
    "\n",
    "## Overview\n",
    "\n",
    "In this journal, I will outline the development of the Dexcom Education Crossword feature. The crossword serves as both an educational and interactive tool aimed at improving knowledge retention and engagement among users.\n",
    "\n",
    "### **Name and Target Audience**\n",
    "\n",
    "The feature is called the **Dexcom Education Crossword**, designed specifically for users who are familiar with or interested in learning more about Dexcom products and services. The crossword is aimed at both new users seeking to understand Dexcom’s technology and existing users who want to test their knowledge in a fun, engaging way.\n",
    "\n",
    "### **How to Play the Crossword**\n",
    "\n",
    "The game is simple yet engaging. Players are presented with a standard crossword grid where they must fill in answers to clues related to Dexcom products and their functionalities.\n",
    "\n",
    "1. **Grid Layout**: A 20x20 grid of squares is presented.\n",
    "2. **Clues**: Each square in the grid corresponds to a clue. Clues are categorized based on difficulty, with simpler questions aimed at new users and more challenging ones for experienced users.\n",
    "3. **Interactions**: As the user solves each clue, they can check if their answer is correct, with real-time feedback available.\n",
    "4. **Scoring**: The game tracks the user’s accuracy and time, giving instant feedback upon completion.\n",
    "\n",
    "---\n",
    "\n",
    "## Design and Planning: Phase One\n",
    "\n",
    "### **Frontend Design**\n",
    "\n",
    "The frontend of the Dexcom Education Crossword is designed to provide a seamless user experience while maintaining a clean, user-friendly interface. Here are some key features of the frontend design:\n",
    "\n",
    "1. **Crossword Grid**: A dynamically generated 20x20 grid, where players can click on a square to input their answer. This grid will be populated based on the clues fetched from the backend.\n",
    "2. **Clue Display**: Users will see the clues either listed next to the grid or as part of a sidebar. Each clue will have a corresponding number that matches the position on the grid.\n",
    "3. **Feedback System**: Upon submitting answers, users will receive real-time feedback on the accuracy of their answer. Incorrect answers will be highlighted, while correct answers will be validated with a visual cue.\n",
    "4. **Responsive Design**: The crossword will be designed to be responsive, ensuring it can be played seamlessly on both desktop and mobile devices.\n",
    "\n",
    "   Technologies used:\n",
    "   - HTML/CSS for grid layout and styling.\n",
    "   - JavaScript for interactive grid functionality (input validation, real-time feedback).\n",
    "   - Bootstrap for responsive layout and design.\n",
    "\n",
    "---\n",
    "\n",
    "### **Backend Design**\n",
    "\n",
    "The backend for the Dexcom Education Crossword is responsible for handling user interactions, storing feedback, and managing game data such as crossword grids and user submissions. The backend is powered by Flask, a lightweight web framework, and integrates with a SQL database for storing user feedback.\n",
    "\n",
    "#### **Key Backend Features**\n",
    "\n",
    "1. **Feedback Model**\n",
    "   The core of the backend is the **Feedback** model, which stores user feedback on their crossword experience. Each feedback entry includes the accuracy rating, user comments, and a timestamp to track when the feedback was submitted.\n",
    "\n",
    "   ```python\n",
    "   class Feedback(db.Model):\n",
    "       id = db.Column(db.Integer, primary_key=True)\n",
    "       accuracy = db.Column(db.Integer, nullable=False)\n",
    "       comment = db.Column(db.String(500), nullable=False)\n",
    "       timestamp = db.Column(db.DateTime, default=datetime.utcnow)\n",
    "\n",
    "       def __init__(self, accuracy, comment):\n",
    "           self.accuracy = accuracy\n",
    "           self.comment = comment\n",
    "\n",
    "       def to_dict(self):\n",
    "           return {\n",
    "               'id': self.id,\n",
    "               'accuracy': self.accuracy,\n",
    "               'comment': self.comment,\n",
    "               'timestamp': self.timestamp.isoformat()\n",
    "           }\n",
    "```python"
   ]
  },
  {
   "cell_type": "markdown",
   "id": "48244cf5",
   "metadata": {},
   "source": [
    "### **Purpose**\n",
    "\n",
    "The **Feedback** model ensures that the data collected from users is consistent, stored efficiently, and easy to retrieve.\n",
    "\n",
    "---\n",
    "\n",
    "### **API Endpoints**\n",
    "\n",
    "The backend API is built with Flask Blueprints to organize and structure the code. The main endpoints provided are:\n",
    "\n",
    "- **POST /api/feedback**: Submits user feedback, including accuracy and comments.\n",
    "- **GET /api/feedback**: Fetches all feedback entries, ordered by timestamp.\n",
    "\n",
    "---\n",
    "\n",
    "#### **Example of the Feedback Submission Endpoint**\n",
    "\n",
    "```python\n",
    "@crossword_api.route('/api/feedback', methods=['POST'])\n",
    "def submit_feedback():\n",
    "    data = request.get_json()\n",
    "    if not data or 'accuracy' not in data or not data.get('comment', '').strip():\n",
    "        return jsonify({'error': 'Missing accuracy or comment'}), 400\n",
    "    \n",
    "    feedback = Feedback(accuracy=data['accuracy'], comment=data['comment'].strip())\n",
    "    db.session.add(feedback)\n",
    "    db.session.commit()\n",
    "    return jsonify(feedback.to_dict()), 201\n"
   ]
  },
  {
   "cell_type": "markdown",
   "id": "7fd6caf0",
   "metadata": {},
   "source": [
    "### User story:\n",
    "As a player, I want to submit feedback about my experience with the Dexcom Education Crossword and the score I get, so that I can record my performance and learn about glucose level in human body system."
   ]
  },
  {
   "cell_type": "markdown",
   "id": "5db30051",
   "metadata": {},
   "source": [
    "## Conclusion\n",
    "- The Dexcom Education Crossword feature is designed to be both engaging and educational.\n",
    "- The frontend provides a clean user interface, while the backend handles feedback submission and data storage efficiently.\n",
    "- Continuous improvements can be made to enhance both user experience and performance.\n",
    "\n",
    "---\n",
    "\n",
    "### Things to Keep Working On\n",
    "\n",
    "- **Backend Model**\n",
    "  - Improve database structure for scalability, especially as the number of users increases.\n",
    "  - Optimize API endpoints for better performance and response times.\n",
    "\n",
    "- **Implement Answer Key**\n",
    "  - Add an answer key feature for users to check their completed crossword, ensuring it provides helpful feedback.\n",
    "  - Implement timed answers and review options after the user finishes the crossword.\n",
    "\n",
    "- **Improve Mobile Responsiveness**\n",
    "  - Ensure that the crossword adjusts smoothly across all screen sizes, especially for mobile users.\n",
    "  - Test and refine mobile interface to prevent usability issues on smaller screens.\n"
   ]
  },
  {
   "cell_type": "markdown",
   "id": "00f1e209",
   "metadata": {},
   "source": []
  }
 ],
 "metadata": {
  "language_info": {
   "name": "python"
  }
 },
 "nbformat": 4,
 "nbformat_minor": 5
}
