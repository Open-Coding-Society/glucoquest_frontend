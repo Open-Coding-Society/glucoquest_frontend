{
 "cells": [
  {
   "cell_type": "raw",
   "metadata": {
    "vscode": {
     "languageId": "raw"
    }
   },
   "source": [
    "---\n",
    "toc: true\n",
    "layout: post\n",
    "title: UI Design\n",
    "description: Design and Layouts for User Interfaces (Frontend)\n",
    "categories: [User Interface]\n",
    "---"
   ]
  },
  {
   "cell_type": "markdown",
   "metadata": {},
   "source": [
    "## Designs\n",
    "General Navigation:\n",
    "<a href = \"https://www.figma.com/board/Z5THlCg9sRgt5b2ITtfTEg/Dexcom-Navigation?node-id=0-1&p=f&t=flV4P0xFXBjrMJse-0\">Figma Board</a>\n",
    "\n",
    "<img src=\"{{site.baseurl}}/images/notebooks/foundation/figma_board_ui_design.png\">\n",
    "\n",
    "Specific Layouts: There are two pages: Homepage and Games. You can find these pages by accessing the side bar on the left.\n",
    "<a href = \"https://www.figma.com/design/lWr9fQ5IOo5jF0TIRBFu0D/Dexcom-Frontend-Design-Layout?node-id=11-82&p=f&t=EHlqBjih3TSjTQVL-0\">Figma Pages</a>\n",
    "\n",
    "### Homepage\n",
    "<img src=\"{{site.baseurl}}/images/notebooks/foundation/dexcom_homepage_design.png\">\n",
    "\n",
    "### Games\n",
    "\n",
    "Games Index:\n",
    "<img src=\"{{site.baseurl}}/images/notebooks/foundation/glucose_arcade_design.png\">\n",
    "\n",
    "Pin The Needle:\n",
    "<img src=\"{{site.baseurl}}/images/notebooks/foundation/needle_design.png\">\n"
   ]
  }
 ],
 "metadata": {
  "language_info": {
   "name": "python"
  }
 },
 "nbformat": 4,
 "nbformat_minor": 2
}
